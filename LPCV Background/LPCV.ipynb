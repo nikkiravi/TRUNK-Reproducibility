{
 "cells": [
  {
   "cell_type": "code",
   "execution_count": 1,
   "metadata": {
    "id": "EjHVCskq11m7"
   },
   "outputs": [],
   "source": [
    "# Import Necessary Libraries\n",
    "import torch\n",
    "import torch.quantization\n",
    "import torch.nn.utils.prune as prune\n",
    "import torch.nn as nn\n",
    "from thop import profile\n",
    "import os\n",
    "\n",
    "import warnings\n",
    "warnings.filterwarnings('ignore')\n",
    "\n",
    "%matplotlib inline"
   ]
  },
  {
   "cell_type": "code",
   "execution_count": 2,
   "metadata": {
    "id": "_abh94OL13SP"
   },
   "outputs": [],
   "source": [
    "# Global Variables\n",
    "seed = torch.manual_seed(29592)  # set the seed for reproducibility"
   ]
  },
  {
   "cell_type": "markdown",
   "metadata": {
    "id": "cySSJ2X_5FUG"
   },
   "source": [
    "## Model"
   ]
  },
  {
   "cell_type": "code",
   "execution_count": 3,
   "metadata": {
    "id": "IftNctXq4MKF"
   },
   "outputs": [],
   "source": [
    "class SimpleConvModel(torch.nn.Module):\n",
    "\tdef __init__(self):\n",
    "\t\tsuper(SimpleConvModel, self).__init__()\n",
    "\t\tself.conv1 = torch.nn.Conv2d(in_channels=3, out_channels=16, kernel_size=3, stride=1, padding=1)\n",
    "\t\tself.conv2 = torch.nn.Conv2d(in_channels=16, out_channels=16, kernel_size=3, stride=1, padding=1)\n",
    "\t\tself.relu = torch.nn.ReLU()\n",
    "\t\tself.fc = torch.nn.Linear(in_features=16*32*32, out_features=1000)\n",
    "\n",
    "\tdef forward(self, x):\n",
    "\t\tx = self.relu(self.conv1(x))\n",
    "\t\tx = self.relu(self.conv2(x))\n",
    "\t\tx = x.reshape(x.size(0), -1)\n",
    "\t\tx = self.fc(x)\n",
    "\t\treturn x"
   ]
  },
  {
   "cell_type": "markdown",
   "metadata": {
    "id": "TaZOLgHr5Gul"
   },
   "source": [
    "## LPCV Techniques"
   ]
  },
  {
   "cell_type": "code",
   "execution_count": 4,
   "metadata": {
    "id": "U_YZggAc4_oG"
   },
   "outputs": [],
   "source": [
    "def quantization(model, dtype):\n",
    "\treturn torch.quantization.quantize_dynamic(model, {nn.Conv2d, nn.Linear}, dtype=dtype)"
   ]
  },
  {
   "cell_type": "code",
   "execution_count": 5,
   "metadata": {},
   "outputs": [],
   "source": [
    "def pruning(model, pruning_perc=0.5):\n",
    "    for name, module in model.named_modules():\n",
    "        if isinstance(module, torch.nn.Conv2d) or isinstance(module, torch.nn.Linear):\n",
    "            prune.ln_structured(module, name='weight', amount=pruning_perc, n=2, dim=0)\n",
    "            prune.remove(module, 'weight')\n",
    "    return model"
   ]
  },
  {
   "cell_type": "code",
   "execution_count": 6,
   "metadata": {},
   "outputs": [],
   "source": [
    "## Revising the base model to include depthwise convolutions to demonstrate layer compression\n",
    "class CompressedModel(torch.nn.Module):\n",
    "\tdef __init__(self):\n",
    "\t\tsuper(CompressedModel, self).__init__()\n",
    "\t\tdef convolution_with_batch_norm(in_ch, out_ch, stride):\n",
    "\t\t\treturn nn.Sequential(\n",
    "                nn.Conv2d(in_ch, out_ch, kernel_size=3, stride=stride, padding=1, bias=False),\n",
    "                nn.BatchNorm2d(num_features=out_ch),\n",
    "                nn.ReLU(inplace=True)\n",
    "                )\n",
    "\n",
    "\t\tdef depth_wise_convolution(in_ch, out_ch, stride):\n",
    "\t\t\treturn nn.Sequential(\n",
    "                # depthwise convolution\n",
    "                nn.Conv2d(in_ch, out_ch, kernel_size=3, stride=stride, padding=1, groups=in_ch, bias=False),\n",
    "                nn.BatchNorm2d(in_ch),\n",
    "                nn.ReLU(inplace=True),\n",
    "\n",
    "                # pointwise convolution\n",
    "                nn.Conv2d(in_ch, out_ch, kernel_size=1, stride=1, padding=0, bias=False),\n",
    "                nn.BatchNorm2d(out_ch),\n",
    "                nn.ReLU(inplace=True),\n",
    "                )\n",
    "\n",
    "\t\tself.model = nn.Sequential(convolution_with_batch_norm(3, 16, 1),\n",
    "\t\tdepth_wise_convolution(16, 16, 1),\n",
    "\t\tnn.AdaptiveAvgPool2d(output_size=1)\n",
    "\t\t)\n",
    "\n",
    "\t\tself.fc = torch.nn.Linear(in_features=16*1*1, out_features=1000)\n",
    "\n",
    "\tdef forward(self, x):\n",
    "\t\tx = self.model(x)\n",
    "\t\tx = x.reshape(x.size(0), -1)\n",
    "\t\tx = self.fc(x)\n",
    "\t\treturn x"
   ]
  },
  {
   "cell_type": "markdown",
   "metadata": {
    "id": "PISiK4yb5I11"
   },
   "source": [
    "## Utilities"
   ]
  },
  {
   "cell_type": "code",
   "execution_count": 7,
   "metadata": {
    "id": "57J4cB6i5C99"
   },
   "outputs": [],
   "source": [
    "def print_model_structure(model, type):\n",
    "\tprint(f'Here is the {type} version of this module:')\n",
    "\tprint(model)"
   ]
  },
  {
   "cell_type": "code",
   "execution_count": 8,
   "metadata": {
    "id": "X5FHGMmk6YtF"
   },
   "outputs": [],
   "source": [
    "def print_size_of_model(model, label=\"\"):\n",
    "    torch.save(model.state_dict(), \"temp.p\")\n",
    "    size = os.path.getsize(\"temp.p\")\n",
    "    print(\"model: \",label,' \\t','Size (MB):', size/1e6)\n",
    "    os.remove('temp.p')\n",
    "    return size"
   ]
  },
  {
   "cell_type": "code",
   "execution_count": 9,
   "metadata": {
    "id": "M-_S7uzN5M3k"
   },
   "outputs": [],
   "source": [
    "def num_operations(model, input_size, label):\n",
    "\tinput_size = torch.randn(input_size)\n",
    "\tflops, params = profile(model, inputs=(input_size, ))\n",
    "\tprint(f\"For model {label}, FLOPs: {flops}, Params: {params}\")"
   ]
  },
  {
   "cell_type": "code",
   "execution_count": 10,
   "metadata": {
    "id": "kVPCdNd98Kkm"
   },
   "outputs": [],
   "source": [
    "def num_parameters(model, type):\n",
    "\tparams = sum(p.numel() for p in model.parameters())\n",
    "\tprint(f\"Number of parameters for {type}: {params}\")"
   ]
  },
  {
   "cell_type": "markdown",
   "metadata": {
    "id": "i4aawy3-5Uq1"
   },
   "source": [
    "## Main"
   ]
  },
  {
   "cell_type": "code",
   "execution_count": 11,
   "metadata": {
    "id": "jl8Wf-6-4RUe"
   },
   "outputs": [],
   "source": [
    "model = SimpleConvModel()\n",
    "inputs = torch.randn(1,3,32,32)"
   ]
  },
  {
   "cell_type": "markdown",
   "metadata": {
    "id": "pd9T5mgM8mTf"
   },
   "source": [
    "### Base Model"
   ]
  },
  {
   "cell_type": "code",
   "execution_count": 12,
   "metadata": {
    "colab": {
     "base_uri": "https://localhost:8080/"
    },
    "executionInfo": {
     "elapsed": 5,
     "status": "ok",
     "timestamp": 1697065759901,
     "user": {
      "displayName": "Nikita Ravi",
      "userId": "09027066114679546859"
     },
     "user_tz": 240
    },
    "id": "36K-QqRH8f3e",
    "outputId": "71f24bd5-1268-4b0d-8d05-4012c1c86cc0"
   },
   "outputs": [
    {
     "name": "stdout",
     "output_type": "stream",
     "text": [
      "Here is the base version of this module:\n",
      "SimpleConvModel(\n",
      "  (conv1): Conv2d(3, 16, kernel_size=(3, 3), stride=(1, 1), padding=(1, 1))\n",
      "  (conv2): Conv2d(16, 16, kernel_size=(3, 3), stride=(1, 1), padding=(1, 1))\n",
      "  (relu): ReLU()\n",
      "  (fc): Linear(in_features=16384, out_features=1000, bias=True)\n",
      ")\n"
     ]
    }
   ],
   "source": [
    "print_model_structure(model,'base')"
   ]
  },
  {
   "cell_type": "code",
   "execution_count": 13,
   "metadata": {
    "colab": {
     "base_uri": "https://localhost:8080/"
    },
    "executionInfo": {
     "elapsed": 524,
     "status": "ok",
     "timestamp": 1697065760422,
     "user": {
      "displayName": "Nikita Ravi",
      "userId": "09027066114679546859"
     },
     "user_tz": 240
    },
    "id": "tfqpmZQL86t-",
    "outputId": "510df142-e0fe-4b85-af9f-42f06be245e3"
   },
   "outputs": [
    {
     "name": "stdout",
     "output_type": "stream",
     "text": [
      "model:  base  \t Size (MB): 65.553445\n"
     ]
    },
    {
     "data": {
      "text/plain": [
       "65553445"
      ]
     },
     "execution_count": 13,
     "metadata": {},
     "output_type": "execute_result"
    }
   ],
   "source": [
    "print_size_of_model(model,'base')"
   ]
  },
  {
   "cell_type": "code",
   "execution_count": 14,
   "metadata": {
    "colab": {
     "base_uri": "https://localhost:8080/"
    },
    "executionInfo": {
     "elapsed": 4756,
     "status": "ok",
     "timestamp": 1697065765175,
     "user": {
      "displayName": "Nikita Ravi",
      "userId": "09027066114679546859"
     },
     "user_tz": 240
    },
    "id": "8mAY1ron9CPp",
    "outputId": "d78d645d-8e2c-441b-d597-b1b569915b1b"
   },
   "outputs": [
    {
     "name": "stdout",
     "output_type": "stream",
     "text": [
      "1.81 ms ± 6.21 µs per loop (mean ± std. dev. of 7 runs, 1000 loops each)\n"
     ]
    }
   ],
   "source": [
    "%timeit model(inputs)"
   ]
  },
  {
   "cell_type": "code",
   "execution_count": 15,
   "metadata": {
    "colab": {
     "base_uri": "https://localhost:8080/"
    },
    "executionInfo": {
     "elapsed": 19,
     "status": "ok",
     "timestamp": 1697065765176,
     "user": {
      "displayName": "Nikita Ravi",
      "userId": "09027066114679546859"
     },
     "user_tz": 240
    },
    "id": "kU5M4V_X9Fph",
    "outputId": "b5985a78-208d-4efb-edc7-65c23911cae1"
   },
   "outputs": [
    {
     "name": "stdout",
     "output_type": "stream",
     "text": [
      "[INFO] Register count_convNd() for <class 'torch.nn.modules.conv.Conv2d'>.\n",
      "[INFO] Register zero_ops() for <class 'torch.nn.modules.activation.ReLU'>.\n",
      "[INFO] Register count_linear() for <class 'torch.nn.modules.linear.Linear'>.\n",
      "For model base, FLOPs: 19185664.0, Params: 16387768.0\n"
     ]
    }
   ],
   "source": [
    "num_operations(model, inputs.shape, 'base')"
   ]
  },
  {
   "cell_type": "markdown",
   "metadata": {
    "id": "UQesWyBk9OBG"
   },
   "source": [
    "### Quantized"
   ]
  },
  {
   "cell_type": "code",
   "execution_count": 16,
   "metadata": {},
   "outputs": [],
   "source": [
    "quantized  = quantization(model, dtype=torch.qint8)"
   ]
  },
  {
   "cell_type": "code",
   "execution_count": 17,
   "metadata": {
    "colab": {
     "base_uri": "https://localhost:8080/"
    },
    "executionInfo": {
     "elapsed": 144,
     "status": "ok",
     "timestamp": 1697065765304,
     "user": {
      "displayName": "Nikita Ravi",
      "userId": "09027066114679546859"
     },
     "user_tz": 240
    },
    "id": "0dK2OkWe9NJp",
    "outputId": "f5574b87-113f-409d-ff8b-4dfd3c722c6c"
   },
   "outputs": [
    {
     "name": "stdout",
     "output_type": "stream",
     "text": [
      "Here is the quantized version of this module:\n",
      "SimpleConvModel(\n",
      "  (conv1): Conv2d(3, 16, kernel_size=(3, 3), stride=(1, 1), padding=(1, 1))\n",
      "  (conv2): Conv2d(16, 16, kernel_size=(3, 3), stride=(1, 1), padding=(1, 1))\n",
      "  (relu): ReLU()\n",
      "  (fc): DynamicQuantizedLinear(in_features=16384, out_features=1000, dtype=torch.qint8, qscheme=torch.per_tensor_affine)\n",
      ")\n"
     ]
    }
   ],
   "source": [
    "print_model_structure(quantized,'quantized')"
   ]
  },
  {
   "cell_type": "code",
   "execution_count": 18,
   "metadata": {
    "colab": {
     "base_uri": "https://localhost:8080/"
    },
    "executionInfo": {
     "elapsed": 139,
     "status": "ok",
     "timestamp": 1697065765441,
     "user": {
      "displayName": "Nikita Ravi",
      "userId": "09027066114679546859"
     },
     "user_tz": 240
    },
    "id": "gD3NZ8uF9TnN",
    "outputId": "b4561747-586a-4f70-9d06-fb2fb38898bb"
   },
   "outputs": [
    {
     "name": "stdout",
     "output_type": "stream",
     "text": [
      "model:  quantized  \t Size (MB): 16.402761\n"
     ]
    },
    {
     "data": {
      "text/plain": [
       "16402761"
      ]
     },
     "execution_count": 18,
     "metadata": {},
     "output_type": "execute_result"
    }
   ],
   "source": [
    "print_size_of_model(quantized,'quantized')"
   ]
  },
  {
   "cell_type": "code",
   "execution_count": 19,
   "metadata": {
    "colab": {
     "base_uri": "https://localhost:8080/"
    },
    "executionInfo": {
     "elapsed": 17760,
     "status": "ok",
     "timestamp": 1697065783199,
     "user": {
      "displayName": "Nikita Ravi",
      "userId": "09027066114679546859"
     },
     "user_tz": 240
    },
    "id": "dvihoNM29XaI",
    "outputId": "faeb126a-cccf-496a-f5f2-119a623444b2"
   },
   "outputs": [
    {
     "name": "stdout",
     "output_type": "stream",
     "text": [
      "759 µs ± 564 ns per loop (mean ± std. dev. of 7 runs, 1000 loops each)\n"
     ]
    }
   ],
   "source": [
    "%timeit quantized(inputs)"
   ]
  },
  {
   "cell_type": "code",
   "execution_count": 20,
   "metadata": {
    "colab": {
     "base_uri": "https://localhost:8080/"
    },
    "executionInfo": {
     "elapsed": 6,
     "status": "ok",
     "timestamp": 1697065783200,
     "user": {
      "displayName": "Nikita Ravi",
      "userId": "09027066114679546859"
     },
     "user_tz": 240
    },
    "id": "I2usE_MX9bfl",
    "outputId": "0245a09d-bc00-4b40-e09d-fe0cf0e88abe"
   },
   "outputs": [
    {
     "name": "stdout",
     "output_type": "stream",
     "text": [
      "[INFO] Register count_convNd() for <class 'torch.nn.modules.conv.Conv2d'>.\n",
      "[INFO] Register zero_ops() for <class 'torch.nn.modules.activation.ReLU'>.\n",
      "For model quantized, FLOPs: 2801664.0, Params: 2768.0\n"
     ]
    }
   ],
   "source": [
    "num_operations(quantized, inputs.shape, 'quantized')"
   ]
  },
  {
   "cell_type": "markdown",
   "metadata": {
    "id": "Q0QMgm8V9p8O"
   },
   "source": [
    "### Pruning"
   ]
  },
  {
   "cell_type": "code",
   "execution_count": 21,
   "metadata": {},
   "outputs": [],
   "source": [
    "pruned = pruning(model, pruning_perc=0.2)"
   ]
  },
  {
   "cell_type": "code",
   "execution_count": 22,
   "metadata": {
    "colab": {
     "base_uri": "https://localhost:8080/"
    },
    "executionInfo": {
     "elapsed": 4,
     "status": "ok",
     "timestamp": 1697065783200,
     "user": {
      "displayName": "Nikita Ravi",
      "userId": "09027066114679546859"
     },
     "user_tz": 240
    },
    "id": "ambthvzU9rIJ",
    "outputId": "91520ae1-4030-4685-8b78-92a98d71119c"
   },
   "outputs": [
    {
     "name": "stdout",
     "output_type": "stream",
     "text": [
      "Here is the pruned version of this module:\n",
      "SimpleConvModel(\n",
      "  (conv1): Conv2d(3, 16, kernel_size=(3, 3), stride=(1, 1), padding=(1, 1))\n",
      "  (conv2): Conv2d(16, 16, kernel_size=(3, 3), stride=(1, 1), padding=(1, 1))\n",
      "  (relu): ReLU()\n",
      "  (fc): Linear(in_features=16384, out_features=1000, bias=True)\n",
      ")\n"
     ]
    }
   ],
   "source": [
    "print_model_structure(pruned,'pruned')"
   ]
  },
  {
   "cell_type": "code",
   "execution_count": 23,
   "metadata": {
    "colab": {
     "base_uri": "https://localhost:8080/"
    },
    "executionInfo": {
     "elapsed": 426,
     "status": "ok",
     "timestamp": 1697065783623,
     "user": {
      "displayName": "Nikita Ravi",
      "userId": "09027066114679546859"
     },
     "user_tz": 240
    },
    "id": "5U4gCRIN9wWD",
    "outputId": "7455d5cc-48fe-44b4-b773-f28f34691f9e"
   },
   "outputs": [
    {
     "name": "stdout",
     "output_type": "stream",
     "text": [
      "model:  pruned  \t Size (MB): 65.553975\n"
     ]
    },
    {
     "data": {
      "text/plain": [
       "65553975"
      ]
     },
     "execution_count": 23,
     "metadata": {},
     "output_type": "execute_result"
    }
   ],
   "source": [
    "print_size_of_model(pruned,'pruned')"
   ]
  },
  {
   "cell_type": "code",
   "execution_count": 24,
   "metadata": {
    "colab": {
     "base_uri": "https://localhost:8080/"
    },
    "executionInfo": {
     "elapsed": 4668,
     "status": "ok",
     "timestamp": 1697065788288,
     "user": {
      "displayName": "Nikita Ravi",
      "userId": "09027066114679546859"
     },
     "user_tz": 240
    },
    "id": "1TWZOlm-902n",
    "outputId": "69e20d3d-ac2c-4911-aa09-fb18575c250f"
   },
   "outputs": [
    {
     "name": "stdout",
     "output_type": "stream",
     "text": [
      "1.84 ms ± 3.8 µs per loop (mean ± std. dev. of 7 runs, 1000 loops each)\n"
     ]
    }
   ],
   "source": [
    "%timeit pruned(inputs)"
   ]
  },
  {
   "cell_type": "code",
   "execution_count": 25,
   "metadata": {
    "colab": {
     "base_uri": "https://localhost:8080/"
    },
    "executionInfo": {
     "elapsed": 19,
     "status": "ok",
     "timestamp": 1697065788288,
     "user": {
      "displayName": "Nikita Ravi",
      "userId": "09027066114679546859"
     },
     "user_tz": 240
    },
    "id": "c3W24Zpa93bD",
    "outputId": "0aaf7d90-4c08-4d7a-8a78-cec891b8b666"
   },
   "outputs": [
    {
     "name": "stdout",
     "output_type": "stream",
     "text": [
      "[INFO] Register count_convNd() for <class 'torch.nn.modules.conv.Conv2d'>.\n",
      "[INFO] Register zero_ops() for <class 'torch.nn.modules.activation.ReLU'>.\n",
      "[INFO] Register count_linear() for <class 'torch.nn.modules.linear.Linear'>.\n",
      "For model pruned, FLOPs: 19185664.0, Params: 16387768.0\n"
     ]
    }
   ],
   "source": [
    "num_operations(pruned, inputs.shape, 'pruned')"
   ]
  },
  {
   "cell_type": "markdown",
   "metadata": {},
   "source": [
    "### Layer Compression"
   ]
  },
  {
   "cell_type": "code",
   "execution_count": 26,
   "metadata": {},
   "outputs": [],
   "source": [
    "compressed = CompressedModel()"
   ]
  },
  {
   "cell_type": "code",
   "execution_count": 27,
   "metadata": {},
   "outputs": [
    {
     "name": "stdout",
     "output_type": "stream",
     "text": [
      "Here is the compressed version of this module:\n",
      "CompressedModel(\n",
      "  (model): Sequential(\n",
      "    (0): Sequential(\n",
      "      (0): Conv2d(3, 16, kernel_size=(3, 3), stride=(1, 1), padding=(1, 1), bias=False)\n",
      "      (1): BatchNorm2d(16, eps=1e-05, momentum=0.1, affine=True, track_running_stats=True)\n",
      "      (2): ReLU(inplace=True)\n",
      "    )\n",
      "    (1): Sequential(\n",
      "      (0): Conv2d(16, 16, kernel_size=(3, 3), stride=(1, 1), padding=(1, 1), groups=16, bias=False)\n",
      "      (1): BatchNorm2d(16, eps=1e-05, momentum=0.1, affine=True, track_running_stats=True)\n",
      "      (2): ReLU(inplace=True)\n",
      "      (3): Conv2d(16, 16, kernel_size=(1, 1), stride=(1, 1), bias=False)\n",
      "      (4): BatchNorm2d(16, eps=1e-05, momentum=0.1, affine=True, track_running_stats=True)\n",
      "      (5): ReLU(inplace=True)\n",
      "    )\n",
      "    (2): AdaptiveAvgPool2d(output_size=1)\n",
      "  )\n",
      "  (fc): Linear(in_features=16, out_features=1000, bias=True)\n",
      ")\n"
     ]
    }
   ],
   "source": [
    "print_model_structure(compressed,'compressed')"
   ]
  },
  {
   "cell_type": "code",
   "execution_count": 28,
   "metadata": {},
   "outputs": [
    {
     "name": "stdout",
     "output_type": "stream",
     "text": [
      "model:  compressed  \t Size (MB): 0.078755\n"
     ]
    },
    {
     "data": {
      "text/plain": [
       "78755"
      ]
     },
     "execution_count": 28,
     "metadata": {},
     "output_type": "execute_result"
    }
   ],
   "source": [
    "print_size_of_model(compressed,'compressed')"
   ]
  },
  {
   "cell_type": "code",
   "execution_count": 29,
   "metadata": {},
   "outputs": [
    {
     "name": "stdout",
     "output_type": "stream",
     "text": [
      "679 µs ± 519 ns per loop (mean ± std. dev. of 7 runs, 1000 loops each)\n"
     ]
    }
   ],
   "source": [
    "%timeit compressed(inputs)"
   ]
  },
  {
   "cell_type": "code",
   "execution_count": 30,
   "metadata": {},
   "outputs": [
    {
     "name": "stdout",
     "output_type": "stream",
     "text": [
      "[INFO] Register count_convNd() for <class 'torch.nn.modules.conv.Conv2d'>.\n",
      "[INFO] Register count_normalization() for <class 'torch.nn.modules.batchnorm.BatchNorm2d'>.\n",
      "[INFO] Register zero_ops() for <class 'torch.nn.modules.activation.ReLU'>.\n",
      "[INFO] Register zero_ops() for <class 'torch.nn.modules.container.Sequential'>.\n",
      "[INFO] Register count_adap_avgpool() for <class 'torch.nn.modules.pooling.AdaptiveAvgPool2d'>.\n",
      "[INFO] Register count_linear() for <class 'torch.nn.modules.linear.Linear'>.\n",
      "For model compressed, FLOPs: 1080976.0, Params: 17928.0\n"
     ]
    }
   ],
   "source": [
    "num_operations(compressed, inputs.shape, 'compressed')"
   ]
  },
  {
   "cell_type": "code",
   "execution_count": null,
   "metadata": {},
   "outputs": [],
   "source": []
  }
 ],
 "metadata": {
  "colab": {
   "provenance": []
  },
  "kernelspec": {
   "display_name": "Python 3.8 - Learning [learning/conda-2020.11-py38-gpu]",
   "language": "python",
   "name": "sys_learning38"
  },
  "language_info": {
   "codemirror_mode": {
    "name": "ipython",
    "version": 3
   },
   "file_extension": ".py",
   "mimetype": "text/x-python",
   "name": "python",
   "nbconvert_exporter": "python",
   "pygments_lexer": "ipython3",
   "version": "3.8.5"
  }
 },
 "nbformat": 4,
 "nbformat_minor": 1
}
